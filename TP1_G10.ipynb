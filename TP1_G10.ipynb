{
 "cells": [
  {
   "cell_type": "markdown",
   "id": "beed0bce",
   "metadata": {},
   "source": [
    "# Trabajo Práctico 1\n",
    "## Métodos de Búsqueda "
   ]
  },
  {
   "cell_type": "markdown",
   "id": "0bdc8a1e",
   "metadata": {},
   "source": [
    "**Grupo 10**\n",
    "* 65913 - Clara Marto\n",
    "* Nuno Braz\n",
    "* Gabriel Polania"
   ]
  },
  {
   "cell_type": "markdown",
   "id": "bf7c1512",
   "metadata": {},
   "source": [
    "### Ejercicio 1\n",
    "\n",
    "Se cuenta con el ejercicio “8-puzzle” donde se parte de un tablero inicial al azar y, moviendo los numeros adyacentes al espacio vacío, se busca llegar al tablero solución."
   ]
  },
  {
   "cell_type": "markdown",
   "id": "1c78a216",
   "metadata": {},
   "source": [
    "##### ¿Qué estructura de estado utilizarían?"
   ]
  },
  {
   "cell_type": "markdown",
   "id": "1adf55a0",
   "metadata": {},
   "source": [
    "El problema \"8-Puzzle\" consiste en un tablero de 3x3 con números del 1 al 8, más un espacio en blanco. El número total de estados posibles se determina permutando estos números en un tablero de 3x3, lo que da como resultado 9!. Esto se debe a que hay 9 formas diferentes de llenar la primera posición, 8 formas para la segunda, 7 para la tercera y así sucesivamente.\n",
    "\n",
    "\n",
    "<div>\n",
    "<img src=\"Tabulero.png\" width=\"500\"/>\n",
    "</div>\n",
    "\n",
    "Para resolver el problema comprobamos si hay un número adyacente (arriba, abajo, a la izquierda o a la derecha) al espacio en blanco y movemos ese número al espacio en blanco, dejando vacía la posición que ocupaba el número anteriormente.\n",
    "\n",
    "Las operaciones se pueden aplicar desde un estado inicial hasta llegar al estado meta (o solución) siguiendo un camino de movimientos válidos. La aplicabilidad de una operación depende de la configuración actual del tablero. Por ejemplo, no puedes mover un número a un espacio vacío si ese espacio está bloqueado por otros números.\n",
    "\n",
    "Un método eficaz para resolver el problema es representarlo como un grafo dirigido. En este grafo, los vértices son los estados posibles, y las aristas representan las transiciones entre estados conseguidas por las operaciones de movimiento. Cada estado del tablero es un nodo del grafo, y una arista conecta dos estados si se puede llegar a un estado desde el otro mediante una operación válida.\n",
    "\n",
    "Utilizar la estructura de un grafo dirigido para resolver el problema es eficaz porque permite explorar sistemáticamente todas las posibilidades, encontrando el camino más corto (si existe) hacia la solución. Esto es especialmente útil cuando se quiere encontrar la solución óptima con el menor número de movimientos posible."
   ]
  },
  {
   "cell_type": "markdown",
   "id": "01e7e7b0",
   "metadata": {},
   "source": [
    "##### Al menos 2 heuristicas admisibles no-triviales"
   ]
  },
  {
   "cell_type": "markdown",
   "id": "482bfb93",
   "metadata": {},
   "source": [
    "* Heuristica 1: Número de piezas fuera de lugar\n",
    "\n",
    "Se propone una heurística en el cual se suman los números que están en posiciones equivocadas, para que de este modo se siga el camino que necesite de menos movimientos. En otras palabras, esta heurística se basa en la idea de que, para alcanzar la solución, deseamos minimizar los cambios necesarios en el tablero. Al sumar los números en posiciones incorrectas, estamos cuantificando este \"costo\" de cambiar los números a sus posiciones correctas"
   ]
  },
  {
   "cell_type": "markdown",
   "id": "aaff0c3d",
   "metadata": {},
   "source": [
    "<div>\n",
    "<img src=\"heuristica.jpeg\" width=\"500\"/>\n",
    "</div>"
   ]
  },
  {
   "cell_type": "markdown",
   "id": "3e763738",
   "metadata": {},
   "source": [
    "Como se puede ver en la imagen, una vez en el estado inicial se realizan las operaciones que se pueden hacer para el hueco, dejando 3 estados, de los cuales cada uno tiene su heurística. Esta se halló al sumar los números que están en posiciones incorrectas, es decir, que no coinciden con las posiciones del tablero objetivo. Una vez con la heurística menor, se aplican las operaciones y se continúa."
   ]
  },
  {
   "cell_type": "markdown",
   "id": "061d2c23",
   "metadata": {},
   "source": [
    "* Heuristica 2: Distancia de Manhattan\n",
    "\n",
    "Esta heurística calcula la distancia entre la posición actual de cada número en el tablero y su posición final deseada sumando todas estas distancias. La fórmula para calcular la distancia Manhattan entre dos posiciones en el tablero $(x1, y1)$ y $(x2, y2)$ es \n",
    "\n",
    "$h(n) = |x1 - x2| + |y1 - y2|$\n",
    "\n",
    "En esta fórmula, $|x1 - x2|$ representa la diferencia absoluta entre las coordenadas $x$ de las dos posiciones, e $|y1 - y2|$ representa la diferencia absoluta entre las coordenadas $y$. El resultado es la suma de las distancias horizontal e vertical entre las posiciones actual y final de la pieza.\n",
    "\n",
    "Esta distancia se calcula para cada número del tablero y luego se suman todas las distancias para obtener la heurística total. \n",
    "Esta heurística es admisible ya que nunca sobreestima el coste de alcanzar la solución. Esto se debe a que el movimiento en el tablero se limita a movimientos horizontales y verticales, sin movimientos diagonales. Como cada movimiento horizontal o vertical incrementa la distancia Manhattan en 1, esta heurística captura con precisión el número de movimientos necesarios para colocar cada pieza en su posición final."
   ]
  },
  {
   "cell_type": "markdown",
   "id": "59f0c731",
   "metadata": {},
   "source": [
    "##### ¿Qué métodos de búsqueda utilizarían, con qué heurística, y por qué?"
   ]
  },
  {
   "cell_type": "markdown",
   "id": "3323a08c",
   "metadata": {},
   "source": [
    "* Heuristica 1\n",
    "\n",
    "El método de búsqueda para esta heurística sería el Greedy Best-First Search, ya que es un algoritmo de búsqueda informada que se centra en la exploración eficiente de espacios de estados utilizando una función heurística, yéndose en este caso al de menor heurística. En general este método es eficiente. Su mayor éxito podría ser en problemas de búsqueda local, donde el objetivo es encontrar soluciones cercanas al estado actual. No obstante, no es óptimo.\n",
    "\n",
    "* Heuristica 2\n",
    "\n",
    "El algoritmo de búsqueda A* es adecuado cuando se dispone de una heurística admisible como la Distancia Manhattan. La Distancia Manhattan es informativa y admisible, lo que significa que guiará la búsqueda eficazmente hacia la solución y garantizará que se encuentre la solución óptima si existe.\n",
    "\n",
    "El método de búsqueda A* consiste en mantener una lista de estados a explorar y evaluar cada estado con una función de coste que combina el coste actual de alcanzar el estado con una estimación del coste restante de alcanzar la solución. Esto significa que siempre encontrará la solución con el menor coste posible, siempre que exista una solución. \n",
    "\n",
    "Sin embargo, el rendimiento de A* puede depender de la calidad de la heurística y de la cantidad de memoria y recursos informáticos disponibles, ya que puede consumir muchos recursos en problemas complejos. Por lo tanto, es una opción adecuada cuando la eficiencia es una preocupación y se dispone de recursos suficientes para llevar a cabo la búsqueda."
   ]
  },
  {
   "cell_type": "markdown",
   "id": "664d68d1",
   "metadata": {},
   "source": [
    "### Ejercicio 2"
   ]
  },
  {
   "cell_type": "code",
   "execution_count": null,
   "id": "faeb4e37",
   "metadata": {},
   "outputs": [],
   "source": []
  }
 ],
 "metadata": {
  "kernelspec": {
   "display_name": "Python 3 (ipykernel)",
   "language": "python",
   "name": "python3"
  },
  "language_info": {
   "codemirror_mode": {
    "name": "ipython",
    "version": 3
   },
   "file_extension": ".py",
   "mimetype": "text/x-python",
   "name": "python",
   "nbconvert_exporter": "python",
   "pygments_lexer": "ipython3",
   "version": "3.9.13"
  }
 },
 "nbformat": 4,
 "nbformat_minor": 5
}
